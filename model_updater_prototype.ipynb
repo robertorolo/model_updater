{
 "cells": [
  {
   "cell_type": "code",
   "execution_count": null,
   "metadata": {},
   "outputs": [],
   "source": [
    "import pygeostat as gs\n",
    "import numpy as np"
   ]
  },
  {
   "cell_type": "markdown",
   "metadata": {},
   "source": [
    "# Importing walker lake"
   ]
  },
  {
   "cell_type": "code",
   "execution_count": null,
   "metadata": {},
   "outputs": [],
   "source": [
    "walker_lake = gs.DataFile('data/walker_lake.txt', x='X', y='Y')"
   ]
  },
  {
   "cell_type": "code",
   "execution_count": null,
   "metadata": {},
   "outputs": [],
   "source": [
    "_ = gs.location_plot(walker_lake, var='Co')"
   ]
  },
  {
   "cell_type": "markdown",
   "metadata": {},
   "source": [
    "# Sampling walker lake and getting the complement"
   ]
  },
  {
   "cell_type": "code",
   "execution_count": null,
   "metadata": {},
   "outputs": [],
   "source": [
    "import random\n",
    "idxs = random.sample([x for x in range(walker_lake.shape[0])], 100)\n",
    "comp_idx = []\n",
    "for i in range(walker_lake.shape[0]):\n",
    "    if i not in idxs:\n",
    "        comp_idx.append(i)\n",
    "comp_idx = np.array(comp_idx)"
   ]
  },
  {
   "cell_type": "code",
   "execution_count": null,
   "metadata": {},
   "outputs": [],
   "source": [
    "sampled = walker_lake.data.loc[idxs]\n",
    "sampled = gs.DataFile(data=sampled, x='X', y='Y')\n",
    "gs.write_gslib(sampled, 'upgradable_data/sampled_walker.dat')\n",
    "sampled = gs.DataFile('upgradable_data/sampled_walker.dat')"
   ]
  },
  {
   "cell_type": "code",
   "execution_count": null,
   "metadata": {},
   "outputs": [],
   "source": [
    "complement = walker_lake.data.loc[comp_idx]\n",
    "complement = gs.DataFile(data=complement, x='X', y='Y')\n",
    "gs.write_gslib(complement, 'data/complement.dat')"
   ]
  },
  {
   "cell_type": "code",
   "execution_count": null,
   "metadata": {},
   "outputs": [],
   "source": [
    "_ = gs.location_plot(sampled, var='Co')"
   ]
  },
  {
   "cell_type": "markdown",
   "metadata": {},
   "source": [
    "# Kriging initial model"
   ]
  },
  {
   "cell_type": "code",
   "execution_count": null,
   "metadata": {},
   "outputs": [],
   "source": [
    "grid = walker_lake.infergriddef(blksize=(5, 5, 1))"
   ]
  },
  {
   "cell_type": "code",
   "execution_count": null,
   "metadata": {},
   "outputs": [],
   "source": [
    "kt3d = gs.Program('kt3d', getpar=True)"
   ]
  },
  {
   "cell_type": "code",
   "execution_count": null,
   "metadata": {},
   "outputs": [],
   "source": [
    "parstr = \"\"\"                  Parameters for KT3D\n",
    "                  *******************\n",
    "\n",
    "START OF PARAMETERS:\n",
    "{input_data}              -file with data\n",
    "0  1  2  0  3  0                 -   columns for DH,X,Y,Z,var,sec var\n",
    "-1.0e21   1.0e21                 -   trimming limits\n",
    "0                                -option: 0=grid, 1=cross, 2=jackknife\n",
    "xvk.dat                          -file with jackknife data\n",
    "1   2   0    3    0              -   columns for X,Y,Z,vr and sec var\n",
    "3                                -debugging level: 0,1,2,3\n",
    "outputs/kt3d.dbg                         -file for debugging output\n",
    "{outfl}                         -file for kriged output\n",
    "{griddef}\n",
    "3    3      1                    -x,y and z block discretization\n",
    "3    24                           -min, max data for kriging\n",
    "0                                -max per octant (0-> not used)\n",
    "200.0  200.0  1.0                 -maximum search radii\n",
    " 0.0   0.0   0.0                 -angles for search ellipsoid\n",
    "1     2.302                      -0=SK,1=OK,2=non-st SK,3=exdrift\n",
    "0 0 0 0 0 0 0 0 0                -drift: x,y,z,xx,yy,zz,xy,xz,zy\n",
    "0                                -0, variable; 1, estimate trend\n",
    "extdrift.dat                     -gridded file with drift/mean\n",
    "4                                -  column number in gridded file\n",
    "1    0                         -nst, nugget effect\n",
    "1    1 160 0.0   0.0        -it,cc,ang1,ang2,ang3\n",
    "         100  50  0.0        -a_hmax, a_hmin, a_vert\n",
    "\"\"\"\n",
    "\n",
    "pars = dict(input_data=sampled.flname,\n",
    "            outfl = 'outputs/initial_model.out',\n",
    "            griddef = grid)\n",
    "kt3d.run(parstr=parstr.format(**pars),quiet=False, liveoutput=True, )"
   ]
  },
  {
   "cell_type": "code",
   "execution_count": null,
   "metadata": {},
   "outputs": [],
   "source": [
    "model = gs.DataFile('outputs/initial_model.out', griddef=grid)"
   ]
  },
  {
   "cell_type": "code",
   "execution_count": null,
   "metadata": {},
   "outputs": [],
   "source": [
    "s = sampled.shape[0]\n",
    "_ = gs.slice_plot(model, griddef=grid, output_file='images/initial_model_{}_samples.png'.format(s), title='initial_model_{}_samples'.format(s), pointdata=sampled, pointvar='Co', pointkws={'edgecolors':'white'})"
   ]
  },
  {
   "cell_type": "markdown",
   "metadata": {},
   "source": [
    "# Starting to upgrade the model live"
   ]
  },
  {
   "cell_type": "code",
   "execution_count": null,
   "metadata": {
    "scrolled": true
   },
   "outputs": [],
   "source": [
    "import time\n",
    "from watchdog.observers import Observer\n",
    "from watchdog.events import FileSystemEventHandler\n",
    "from datetime import datetime, timedelta\n",
    "\n",
    "class MyHandler(FileSystemEventHandler):\n",
    "    def __init__(self):\n",
    "        self.c = 0\n",
    "        self.last_modified = datetime.now()\n",
    "    \n",
    "    def on_modified(self, event):\n",
    "        #print(f'Event type: {event.event_type}  path : {event.src_path}')\n",
    "        \n",
    "        if event.src_path == 'upgradable_data/sampled_walker.dat':\n",
    "            if (datetime.now() - self.last_modified) < timedelta(seconds=3):\n",
    "                return\n",
    "            else:\n",
    "                self.last_modified = datetime.now()\n",
    "            \n",
    "            print('Upgrading the model...')\n",
    "\n",
    "            upgradaded_sampled_walker = gs.DataFile('upgradable_data/sampled_walker.dat')\n",
    "            s = upgradaded_sampled_walker.shape[0]\n",
    "            pars_n = dict(input_data=upgradaded_sampled_walker.flname,\n",
    "                        outfl = 'outputs/model_{}.out'.format(self.c),\n",
    "                        griddef = grid)\n",
    "            kt3d.run(parstr=parstr.format(**pars_n),quiet=False, liveoutput=False)\n",
    "            model = gs.DataFile('outputs/model_{}.out'.format(self.c), griddef=grid)\n",
    "            _ = gs.slice_plot(model, griddef=grid, output_file='images/model_{}_{}_samples.png'.format(self.c, s), title='model_{}_{}_samples'.format(self.c, s), pointdata=upgradaded_sampled_walker, pointvar='Co', pointkws={'edgecolors':'white'})\n",
    "\n",
    "            self.c = self.c + 1\n",
    "\n",
    "event_handler = MyHandler()\n",
    "observer = Observer()\n",
    "observer.schedule(event_handler, path='upgradable_data', recursive=False)\n",
    "observer.start()\n",
    "print('I am Listening...')\n",
    "\n",
    "try:\n",
    "    while True:\n",
    "        time.sleep(1)\n",
    "except KeyboardInterrupt:\n",
    "    observer.stop()\n",
    "observer.join()"
   ]
  },
  {
   "cell_type": "markdown",
   "metadata": {},
   "source": [
    "# Enhancements\n",
    "\n",
    "* Live model calibration\n",
    "* Update only blocks inside the range of influence of the new samples"
   ]
  }
 ],
 "metadata": {
  "kernelspec": {
   "display_name": "Python 3",
   "language": "python",
   "name": "python3"
  },
  "language_info": {
   "codemirror_mode": {
    "name": "ipython",
    "version": 3
   },
   "file_extension": ".py",
   "mimetype": "text/x-python",
   "name": "python",
   "nbconvert_exporter": "python",
   "pygments_lexer": "ipython3",
   "version": "3.8.5"
  }
 },
 "nbformat": 4,
 "nbformat_minor": 4
}
